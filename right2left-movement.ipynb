{
 "cells": [
  {
   "cell_type": "code",
   "execution_count": 1,
   "metadata": {},
   "outputs": [],
   "source": [
    "from sensor import sensor as sens\n",
    "from actuator import actuator as act\n",
    "from threshold import threshold as thr\n",
    "from manager import manager\n",
    "from signal_input import signal_input\n",
    "import wire\n",
    "from graphviz import Source, render"
   ]
  },
  {
   "cell_type": "code",
   "execution_count": 2,
   "metadata": {},
   "outputs": [],
   "source": [
    "#Create manager that holds the threshold device\n",
    "mng = manager(verbose = True)\n",
    "\n",
    "#Create an input node\n",
    "sns = sens(mng,(1,5))\n",
    "at = act(mng)\n",
    "#Create threshold nodes\n",
    "t1 = thr(mng,1)\n",
    "t2 = thr(mng,1)\n",
    "t3 = thr(mng,1)\n",
    "t4 = thr(mng,1)\n",
    "t5 = thr(mng,2)\n",
    "t6 = thr(mng,2)\n",
    "t7 = thr(mng,2)\n",
    "t8 = thr(mng,2)"
   ]
  },
  {
   "cell_type": "code",
   "execution_count": 3,
   "metadata": {},
   "outputs": [
    {
     "data": {
      "text/plain": [
       "[<signal_input.signal_input at 0x1fcdc0e2f98>,\n",
       " <signal_input.signal_input at 0x1fcdc0f9080>,\n",
       " <signal_input.signal_input at 0x1fcdc0f90b8>,\n",
       " <signal_input.signal_input at 0x1fcdc0f90f0>,\n",
       " <signal_input.signal_input at 0x1fcdc0f9128>]"
      ]
     },
     "execution_count": 3,
     "metadata": {},
     "output_type": "execute_result"
    }
   ],
   "source": [
    "sns.inputs"
   ]
  },
  {
   "cell_type": "code",
   "execution_count": 4,
   "metadata": {},
   "outputs": [],
   "source": [
    "#Define connections between nodes 0-activate , 1-inhibit\n",
    "t1.add_consumer(t5,0)\n",
    "t2.add_consumer(t6,0)\n",
    "t3.add_consumer(t7,0)\n",
    "t4.add_consumer(t8,0)\n",
    "t8.add_consumer(at,0)\n",
    "sns.add_consumer(t1,0,(0,4))\n",
    "sns.add_consumer(t2,0,(0,3))\n",
    "sns.add_consumer(t5,0,(0,3))\n",
    "sns.add_consumer(t3,0,(0,2))\n",
    "sns.add_consumer(t6,0,(0,2))\n",
    "sns.add_consumer(t4,0,(0,1))\n",
    "sns.add_consumer(t7,0,(0,1))\n",
    "sns.add_consumer(t8,0,(0,0))"
   ]
  },
  {
   "cell_type": "code",
   "execution_count": 5,
   "metadata": {
    "scrolled": true
   },
   "outputs": [
    {
     "name": "stdout",
     "output_type": "stream",
     "text": [
      "thr_IIHQ --> thr_U6Z6 with : wire_4NFS\n",
      "thr_TJ96 --> thr_H6PS with : wire_QSYH\n",
      "thr_1AL8 --> thr_VC52 with : wire_XY2X\n",
      "thr_MS0U --> thr_Q63O with : wire_GQ77\n",
      "thr_Q63O --> act_GLIH with : wire_HCPD\n"
     ]
    }
   ],
   "source": [
    "#Display connections --> activation, --| inhibition.\n",
    "mng.display()"
   ]
  },
  {
   "cell_type": "code",
   "execution_count": 6,
   "metadata": {},
   "outputs": [
    {
     "name": "stdout",
     "output_type": "stream",
     "text": [
      "digraph \"device\"{ graph [rankdir=LR] node [shape=circle] act_GLIH [color=black style=filled shape=doublecircle label=\"\" width=0.30] thr_IIHQ [label =\"1\"] thr_TJ96 [label =\"1\"] thr_1AL8 [label =\"1\"] thr_MS0U [label =\"1\"] thr_U6Z6 [label =\"2\"] thr_H6PS [label =\"2\"] thr_VC52 [label =\"2\"] thr_Q63O [label =\"2\"] thr_IIHQ -> thr_U6Z6 [arrowhead=\"rnormal\"] thr_TJ96 -> thr_H6PS [arrowhead=\"rnormal\"] thr_1AL8 -> thr_VC52 [arrowhead=\"rnormal\"] thr_MS0U -> thr_Q63O [arrowhead=\"rnormal\"] thr_Q63O -> act_GLIH [arrowhead=\"rnormal\"] input_DGMK [color=black style=filled shape=circle label=\"\" width=0.25] input_DGMK -> thr_Q63O [arrowhead=\"rnormal\"] input_LL2A [color=black style=filled shape=circle label=\"\" width=0.25] input_LL2A -> thr_MS0U [arrowhead=\"rnormal\"] input_LL2A -> thr_VC52 [arrowhead=\"rnormal\"] input_1DJX [color=black style=filled shape=circle label=\"\" width=0.25] input_1DJX -> thr_1AL8 [arrowhead=\"rnormal\"] input_1DJX -> thr_H6PS [arrowhead=\"rnormal\"] input_QETX [color=black style=filled shape=circle label=\"\" width=0.25] input_QETX -> thr_TJ96 [arrowhead=\"rnormal\"] input_QETX -> thr_U6Z6 [arrowhead=\"rnormal\"] input_9GVK [color=black style=filled shape=circle label=\"\" width=0.25] input_9GVK -> thr_IIHQ [arrowhead=\"rnormal\"]}\n"
     ]
    },
    {
     "data": {
      "text/plain": [
       "'right2left\\\\right2left_movement.png'"
      ]
     },
     "execution_count": 6,
     "metadata": {},
     "output_type": "execute_result"
    }
   ],
   "source": [
    "#Generate the DOT representation of the manager/t. device\n",
    "dot = mng.dot_generator()\n",
    "#Read the DOT file with graphviz\n",
    "src = Source(dot)\n",
    "#Create and save the graph\n",
    "src.render(filename='right2left_movement', directory='right2left', format='png', cleanup=True)"
   ]
  },
  {
   "cell_type": "code",
   "execution_count": 7,
   "metadata": {},
   "outputs": [
    {
     "data": {
      "image/svg+xml": [
       "<?xml version=\"1.0\" encoding=\"UTF-8\" standalone=\"no\"?>\r\n",
       "<!DOCTYPE svg PUBLIC \"-//W3C//DTD SVG 1.1//EN\"\r\n",
       " \"http://www.w3.org/Graphics/SVG/1.1/DTD/svg11.dtd\">\r\n",
       "<!-- Generated by graphviz version 2.38.0 (20140413.2041)\r\n",
       " -->\r\n",
       "<!-- Title: device Pages: 1 -->\r\n",
       "<svg width=\"452pt\" height=\"206pt\"\r\n",
       " viewBox=\"0.00 0.00 452.00 206.00\" xmlns=\"http://www.w3.org/2000/svg\" xmlns:xlink=\"http://www.w3.org/1999/xlink\">\r\n",
       "<g id=\"graph0\" class=\"graph\" transform=\"scale(1 1) rotate(0) translate(4 202)\">\r\n",
       "<title>device</title>\r\n",
       "<polygon fill=\"white\" stroke=\"none\" points=\"-4,4 -4,-202 448,-202 448,4 -4,4\"/>\r\n",
       "<!-- act_GLIH -->\r\n",
       "<g id=\"node1\" class=\"node\"><title>act_GLIH</title>\r\n",
       "<ellipse fill=\"black\" stroke=\"black\" cx=\"429\" cy=\"-130\" rx=\"11\" ry=\"11\"/>\r\n",
       "<ellipse fill=\"none\" stroke=\"black\" cx=\"429\" cy=\"-130\" rx=\"15\" ry=\"15\"/>\r\n",
       "</g>\r\n",
       "<!-- thr_IIHQ -->\r\n",
       "<g id=\"node2\" class=\"node\"><title>thr_IIHQ</title>\r\n",
       "<ellipse fill=\"none\" stroke=\"black\" cx=\"72\" cy=\"-18\" rx=\"18\" ry=\"18\"/>\r\n",
       "<text text-anchor=\"middle\" x=\"72\" y=\"-14.3\" font-family=\"Times New Roman,serif\" font-size=\"14.00\">1</text>\r\n",
       "</g>\r\n",
       "<!-- thr_U6Z6 -->\r\n",
       "<g id=\"node6\" class=\"node\"><title>thr_U6Z6</title>\r\n",
       "<ellipse fill=\"none\" stroke=\"black\" cx=\"144\" cy=\"-18\" rx=\"18\" ry=\"18\"/>\r\n",
       "<text text-anchor=\"middle\" x=\"144\" y=\"-14.3\" font-family=\"Times New Roman,serif\" font-size=\"14.00\">2</text>\r\n",
       "</g>\r\n",
       "<!-- thr_IIHQ&#45;&gt;thr_U6Z6 -->\r\n",
       "<g id=\"edge1\" class=\"edge\"><title>thr_IIHQ&#45;&gt;thr_U6Z6</title>\r\n",
       "<path fill=\"none\" stroke=\"black\" d=\"M90.3034,-18C98.0173,-18 107.288,-18 115.888,-18\"/>\r\n",
       "<polygon fill=\"black\" stroke=\"black\" points=\"125.896,-18 115.896,-14.5001 115.896,-18.0001 125.896,-18\"/>\r\n",
       "</g>\r\n",
       "<!-- thr_TJ96 -->\r\n",
       "<g id=\"node3\" class=\"node\"><title>thr_TJ96</title>\r\n",
       "<ellipse fill=\"none\" stroke=\"black\" cx=\"144\" cy=\"-72\" rx=\"18\" ry=\"18\"/>\r\n",
       "<text text-anchor=\"middle\" x=\"144\" y=\"-68.3\" font-family=\"Times New Roman,serif\" font-size=\"14.00\">1</text>\r\n",
       "</g>\r\n",
       "<!-- thr_H6PS -->\r\n",
       "<g id=\"node7\" class=\"node\"><title>thr_H6PS</title>\r\n",
       "<ellipse fill=\"none\" stroke=\"black\" cx=\"216\" cy=\"-72\" rx=\"18\" ry=\"18\"/>\r\n",
       "<text text-anchor=\"middle\" x=\"216\" y=\"-68.3\" font-family=\"Times New Roman,serif\" font-size=\"14.00\">2</text>\r\n",
       "</g>\r\n",
       "<!-- thr_TJ96&#45;&gt;thr_H6PS -->\r\n",
       "<g id=\"edge2\" class=\"edge\"><title>thr_TJ96&#45;&gt;thr_H6PS</title>\r\n",
       "<path fill=\"none\" stroke=\"black\" d=\"M162.303,-72C170.017,-72 179.288,-72 187.888,-72\"/>\r\n",
       "<polygon fill=\"black\" stroke=\"black\" points=\"197.896,-72 187.896,-68.5001 187.896,-72.0001 197.896,-72\"/>\r\n",
       "</g>\r\n",
       "<!-- thr_1AL8 -->\r\n",
       "<g id=\"node4\" class=\"node\"><title>thr_1AL8</title>\r\n",
       "<ellipse fill=\"none\" stroke=\"black\" cx=\"216\" cy=\"-126\" rx=\"18\" ry=\"18\"/>\r\n",
       "<text text-anchor=\"middle\" x=\"216\" y=\"-122.3\" font-family=\"Times New Roman,serif\" font-size=\"14.00\">1</text>\r\n",
       "</g>\r\n",
       "<!-- thr_VC52 -->\r\n",
       "<g id=\"node8\" class=\"node\"><title>thr_VC52</title>\r\n",
       "<ellipse fill=\"none\" stroke=\"black\" cx=\"288\" cy=\"-126\" rx=\"18\" ry=\"18\"/>\r\n",
       "<text text-anchor=\"middle\" x=\"288\" y=\"-122.3\" font-family=\"Times New Roman,serif\" font-size=\"14.00\">2</text>\r\n",
       "</g>\r\n",
       "<!-- thr_1AL8&#45;&gt;thr_VC52 -->\r\n",
       "<g id=\"edge3\" class=\"edge\"><title>thr_1AL8&#45;&gt;thr_VC52</title>\r\n",
       "<path fill=\"none\" stroke=\"black\" d=\"M234.303,-126C242.017,-126 251.288,-126 259.888,-126\"/>\r\n",
       "<polygon fill=\"black\" stroke=\"black\" points=\"269.896,-126 259.896,-122.5 259.896,-126 269.896,-126\"/>\r\n",
       "</g>\r\n",
       "<!-- thr_MS0U -->\r\n",
       "<g id=\"node5\" class=\"node\"><title>thr_MS0U</title>\r\n",
       "<ellipse fill=\"none\" stroke=\"black\" cx=\"288\" cy=\"-180\" rx=\"18\" ry=\"18\"/>\r\n",
       "<text text-anchor=\"middle\" x=\"288\" y=\"-176.3\" font-family=\"Times New Roman,serif\" font-size=\"14.00\">1</text>\r\n",
       "</g>\r\n",
       "<!-- thr_Q63O -->\r\n",
       "<g id=\"node9\" class=\"node\"><title>thr_Q63O</title>\r\n",
       "<ellipse fill=\"none\" stroke=\"black\" cx=\"360\" cy=\"-130\" rx=\"18\" ry=\"18\"/>\r\n",
       "<text text-anchor=\"middle\" x=\"360\" y=\"-126.3\" font-family=\"Times New Roman,serif\" font-size=\"14.00\">2</text>\r\n",
       "</g>\r\n",
       "<!-- thr_MS0U&#45;&gt;thr_Q63O -->\r\n",
       "<g id=\"edge4\" class=\"edge\"><title>thr_MS0U&#45;&gt;thr_Q63O</title>\r\n",
       "<path fill=\"none\" stroke=\"black\" d=\"M303.166,-169.882C312.748,-163.037 325.608,-153.852 336.57,-146.022\"/>\r\n",
       "<polygon fill=\"black\" stroke=\"black\" points=\"344.856,-140.103 334.684,-143.068 336.718,-145.916 344.856,-140.103\"/>\r\n",
       "</g>\r\n",
       "<!-- thr_Q63O&#45;&gt;act_GLIH -->\r\n",
       "<g id=\"edge5\" class=\"edge\"><title>thr_Q63O&#45;&gt;act_GLIH</title>\r\n",
       "<path fill=\"none\" stroke=\"black\" d=\"M378.254,-130C385.997,-130 395.267,-130 403.695,-130\"/>\r\n",
       "<polygon fill=\"black\" stroke=\"black\" points=\"413.742,-130 403.742,-126.5 403.742,-130 413.742,-130\"/>\r\n",
       "</g>\r\n",
       "<!-- input_DGMK -->\r\n",
       "<g id=\"node10\" class=\"node\"><title>input_DGMK</title>\r\n",
       "<ellipse fill=\"black\" stroke=\"black\" cx=\"288\" cy=\"-81\" rx=\"9\" ry=\"9\"/>\r\n",
       "</g>\r\n",
       "<!-- input_DGMK&#45;&gt;thr_Q63O -->\r\n",
       "<g id=\"edge6\" class=\"edge\"><title>input_DGMK&#45;&gt;thr_Q63O</title>\r\n",
       "<path fill=\"none\" stroke=\"black\" d=\"M295.712,-85.6983C305.007,-92.2048 322.252,-104.276 336.396,-114.177\"/>\r\n",
       "<polygon fill=\"black\" stroke=\"black\" points=\"344.703,-119.992 338.517,-111.39 336.51,-114.257 344.703,-119.992\"/>\r\n",
       "</g>\r\n",
       "<!-- input_LL2A -->\r\n",
       "<g id=\"node11\" class=\"node\"><title>input_LL2A</title>\r\n",
       "<ellipse fill=\"black\" stroke=\"black\" cx=\"216\" cy=\"-175\" rx=\"9\" ry=\"9\"/>\r\n",
       "</g>\r\n",
       "<!-- input_LL2A&#45;&gt;thr_MS0U -->\r\n",
       "<g id=\"edge7\" class=\"edge\"><title>input_LL2A&#45;&gt;thr_MS0U</title>\r\n",
       "<path fill=\"none\" stroke=\"black\" d=\"M225.03,-175.574C233.559,-176.183 247.51,-177.179 260.017,-178.073\"/>\r\n",
       "<polygon fill=\"black\" stroke=\"black\" points=\"270.033,-178.788 260.307,-174.584 260.058,-178.075 270.033,-178.788\"/>\r\n",
       "</g>\r\n",
       "<!-- input_LL2A&#45;&gt;thr_VC52 -->\r\n",
       "<g id=\"edge8\" class=\"edge\"><title>input_LL2A&#45;&gt;thr_VC52</title>\r\n",
       "<path fill=\"none\" stroke=\"black\" d=\"M223.712,-170.302C233.007,-163.795 250.252,-151.724 264.396,-141.823\"/>\r\n",
       "<polygon fill=\"black\" stroke=\"black\" points=\"272.703,-136.008 262.503,-138.876 264.51,-141.743 272.703,-136.008\"/>\r\n",
       "</g>\r\n",
       "<!-- input_1DJX -->\r\n",
       "<g id=\"node12\" class=\"node\"><title>input_1DJX</title>\r\n",
       "<ellipse fill=\"black\" stroke=\"black\" cx=\"144\" cy=\"-121\" rx=\"9\" ry=\"9\"/>\r\n",
       "</g>\r\n",
       "<!-- input_1DJX&#45;&gt;thr_1AL8 -->\r\n",
       "<g id=\"edge9\" class=\"edge\"><title>input_1DJX&#45;&gt;thr_1AL8</title>\r\n",
       "<path fill=\"none\" stroke=\"black\" d=\"M153.03,-121.574C161.559,-122.183 175.51,-123.179 188.017,-124.073\"/>\r\n",
       "<polygon fill=\"black\" stroke=\"black\" points=\"198.033,-124.788 188.307,-120.584 188.058,-124.075 198.033,-124.788\"/>\r\n",
       "</g>\r\n",
       "<!-- input_1DJX&#45;&gt;thr_H6PS -->\r\n",
       "<g id=\"edge10\" class=\"edge\"><title>input_1DJX&#45;&gt;thr_H6PS</title>\r\n",
       "<path fill=\"none\" stroke=\"black\" d=\"M151.712,-116.302C161.007,-109.795 178.252,-97.7237 192.396,-87.8231\"/>\r\n",
       "<polygon fill=\"black\" stroke=\"black\" points=\"200.703,-82.0082 190.503,-84.8756 192.51,-87.7429 200.703,-82.0082\"/>\r\n",
       "</g>\r\n",
       "<!-- input_QETX -->\r\n",
       "<g id=\"node13\" class=\"node\"><title>input_QETX</title>\r\n",
       "<ellipse fill=\"black\" stroke=\"black\" cx=\"72\" cy=\"-67\" rx=\"9\" ry=\"9\"/>\r\n",
       "</g>\r\n",
       "<!-- input_QETX&#45;&gt;thr_TJ96 -->\r\n",
       "<g id=\"edge11\" class=\"edge\"><title>input_QETX&#45;&gt;thr_TJ96</title>\r\n",
       "<path fill=\"none\" stroke=\"black\" d=\"M81.0299,-67.5736C89.5589,-68.1828 103.51,-69.1793 116.017,-70.0726\"/>\r\n",
       "<polygon fill=\"black\" stroke=\"black\" points=\"126.033,-70.788 116.307,-66.5844 116.058,-70.0755 126.033,-70.788\"/>\r\n",
       "</g>\r\n",
       "<!-- input_QETX&#45;&gt;thr_U6Z6 -->\r\n",
       "<g id=\"edge12\" class=\"edge\"><title>input_QETX&#45;&gt;thr_U6Z6</title>\r\n",
       "<path fill=\"none\" stroke=\"black\" d=\"M79.7119,-62.3017C89.0068,-55.7952 106.252,-43.7237 120.396,-33.8231\"/>\r\n",
       "<polygon fill=\"black\" stroke=\"black\" points=\"128.703,-28.0082 118.503,-30.8756 120.51,-33.7429 128.703,-28.0082\"/>\r\n",
       "</g>\r\n",
       "<!-- input_9GVK -->\r\n",
       "<g id=\"node14\" class=\"node\"><title>input_9GVK</title>\r\n",
       "<ellipse fill=\"black\" stroke=\"black\" cx=\"9\" cy=\"-18\" rx=\"9\" ry=\"9\"/>\r\n",
       "</g>\r\n",
       "<!-- input_9GVK&#45;&gt;thr_IIHQ -->\r\n",
       "<g id=\"edge13\" class=\"edge\"><title>input_9GVK&#45;&gt;thr_IIHQ</title>\r\n",
       "<path fill=\"none\" stroke=\"black\" d=\"M18.2267,-18C24.8426,-18 34.5327,-18 43.8096,-18\"/>\r\n",
       "<polygon fill=\"black\" stroke=\"black\" points=\"53.9219,-18 43.9219,-14.5001 43.9219,-18.0001 53.9219,-18\"/>\r\n",
       "</g>\r\n",
       "</g>\r\n",
       "</svg>\r\n"
      ],
      "text/plain": [
       "<graphviz.files.Source at 0x1fcdc0e2a20>"
      ]
     },
     "execution_count": 7,
     "metadata": {},
     "output_type": "execute_result"
    }
   ],
   "source": [
    "src"
   ]
  },
  {
   "cell_type": "code",
   "execution_count": 8,
   "metadata": {},
   "outputs": [],
   "source": [
    "movement = [[0,0,0,0,1],\n",
    "            [0,0,0,1,0],\n",
    "            [0,0,1,0,0],\n",
    "            [0,1,0,0,0],\n",
    "            [1,0,0,0,0]]"
   ]
  },
  {
   "cell_type": "code",
   "execution_count": 9,
   "metadata": {
    "scrolled": false
   },
   "outputs": [
    {
     "name": "stdout",
     "output_type": "stream",
     "text": [
      "[0, 0, 0, 0, 1]\n",
      "I : 0\n",
      "I : 0\n",
      "I : 0\n",
      "I : 0\n",
      "I : 1\n",
      "signaled\n",
      "Thresholds at time 0 after the signal: \n",
      "[1, 0, 0, 0, 0, 0, 0, 0]\n",
      "Threshold outputs at time 0\n",
      "thr_IIHQ --> wire_4NFS\n",
      "Thresholds at time 0 after threshold update: \n",
      "[0, 0, 0, 0, 0, 0, 0, 0]\n",
      "Wire outputs at time 0\n",
      "thr_IIHQ --> thr_U6Z6 with : wire_4NFS\n",
      "thr_TJ96 --- thr_H6PS with : wire_QSYH\n",
      "thr_1AL8 --- thr_VC52 with : wire_XY2X\n",
      "thr_MS0U --- thr_Q63O with : wire_GQ77\n",
      "thr_Q63O --- act_GLIH with : wire_HCPD\n",
      "Thresholds at time 0 after wire update: \n",
      "[0, 0, 0, 0, 1, 0, 0, 0]\n",
      "[0, 0, 0, 1, 0]\n",
      "I : 0\n",
      "I : 0\n",
      "I : 0\n",
      "I : 1\n",
      "signaled\n",
      "Thresholds at time 1 after the signal: \n",
      "[0, 1, 0, 0, 2, 0, 0, 0]\n",
      "I : 0\n",
      "Threshold outputs at time 1\n",
      "thr_TJ96 --> wire_QSYH\n",
      "Thresholds at time 1 after threshold update: \n",
      "[0, 0, 0, 0, 0, 0, 0, 0]\n",
      "Wire outputs at time 1\n",
      "thr_IIHQ --- thr_U6Z6 with : wire_4NFS\n",
      "thr_TJ96 --> thr_H6PS with : wire_QSYH\n",
      "thr_1AL8 --- thr_VC52 with : wire_XY2X\n",
      "thr_MS0U --- thr_Q63O with : wire_GQ77\n",
      "thr_Q63O --- act_GLIH with : wire_HCPD\n",
      "Thresholds at time 1 after wire update: \n",
      "[0, 0, 0, 0, 0, 1, 0, 0]\n",
      "[0, 0, 1, 0, 0]\n",
      "I : 0\n",
      "I : 0\n",
      "I : 1\n",
      "signaled\n",
      "Thresholds at time 2 after the signal: \n",
      "[0, 0, 1, 0, 0, 2, 0, 0]\n",
      "I : 0\n",
      "I : 0\n",
      "Threshold outputs at time 2\n",
      "thr_1AL8 --> wire_XY2X\n",
      "Thresholds at time 2 after threshold update: \n",
      "[0, 0, 0, 0, 0, 0, 0, 0]\n",
      "Wire outputs at time 2\n",
      "thr_IIHQ --- thr_U6Z6 with : wire_4NFS\n",
      "thr_TJ96 --- thr_H6PS with : wire_QSYH\n",
      "thr_1AL8 --> thr_VC52 with : wire_XY2X\n",
      "thr_MS0U --- thr_Q63O with : wire_GQ77\n",
      "thr_Q63O --- act_GLIH with : wire_HCPD\n",
      "Thresholds at time 2 after wire update: \n",
      "[0, 0, 0, 0, 0, 0, 1, 0]\n",
      "[0, 1, 0, 0, 0]\n",
      "I : 0\n",
      "I : 1\n",
      "signaled\n",
      "Thresholds at time 3 after the signal: \n",
      "[0, 0, 0, 1, 0, 0, 2, 0]\n",
      "I : 0\n",
      "I : 0\n",
      "I : 0\n",
      "Threshold outputs at time 3\n",
      "thr_MS0U --> wire_GQ77\n",
      "Thresholds at time 3 after threshold update: \n",
      "[0, 0, 0, 0, 0, 0, 0, 0]\n",
      "Wire outputs at time 3\n",
      "thr_IIHQ --- thr_U6Z6 with : wire_4NFS\n",
      "thr_TJ96 --- thr_H6PS with : wire_QSYH\n",
      "thr_1AL8 --- thr_VC52 with : wire_XY2X\n",
      "thr_MS0U --> thr_Q63O with : wire_GQ77\n",
      "thr_Q63O --- act_GLIH with : wire_HCPD\n",
      "Thresholds at time 3 after wire update: \n",
      "[0, 0, 0, 0, 0, 0, 0, 1]\n",
      "[1, 0, 0, 0, 0]\n",
      "I : 1\n",
      "signaled\n",
      "Thresholds at time 4 after the signal: \n",
      "[0, 0, 0, 0, 0, 0, 0, 2]\n",
      "I : 0\n",
      "I : 0\n",
      "I : 0\n",
      "I : 0\n",
      "Threshold outputs at time 4\n",
      "thr_Q63O --> wire_HCPD\n",
      "Thresholds at time 4 after threshold update: \n",
      "[0, 0, 0, 0, 0, 0, 0, 0]\n",
      "Wire outputs at time 4\n",
      "thr_IIHQ --- thr_U6Z6 with : wire_4NFS\n",
      "thr_TJ96 --- thr_H6PS with : wire_QSYH\n",
      "thr_1AL8 --- thr_VC52 with : wire_XY2X\n",
      "thr_MS0U --- thr_Q63O with : wire_GQ77\n",
      "thr_Q63O --> act_GLIH with : wire_HCPD\n",
      "Thresholds at time 4 after wire update: \n",
      "[0, 0, 0, 0, 0, 0, 0, 0]\n",
      "act_GLIH : ACTIVATED \n"
     ]
    }
   ],
   "source": [
    "for i in range(5):\n",
    "    sns.feed(movement[i])\n",
    "    mng.update()"
   ]
  },
  {
   "cell_type": "code",
   "execution_count": null,
   "metadata": {},
   "outputs": [],
   "source": []
  }
 ],
 "metadata": {
  "kernelspec": {
   "display_name": "Python 3",
   "language": "python",
   "name": "python3"
  },
  "language_info": {
   "codemirror_mode": {
    "name": "ipython",
    "version": 3
   },
   "file_extension": ".py",
   "mimetype": "text/x-python",
   "name": "python",
   "nbconvert_exporter": "python",
   "pygments_lexer": "ipython3",
   "version": "3.6.8"
  }
 },
 "nbformat": 4,
 "nbformat_minor": 2
}
