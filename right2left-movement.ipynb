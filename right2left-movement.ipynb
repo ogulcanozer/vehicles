{
 "cells": [
  {
   "cell_type": "code",
   "execution_count": 1,
   "metadata": {},
   "outputs": [],
   "source": [
    "from sensor import sensor as sens\n",
    "from actuator import actuator as act\n",
    "from threshold import threshold as thr\n",
    "from manager import manager\n",
    "from signal_input import signal_input\n",
    "import wire\n",
    "from graphviz import Source, render"
   ]
  },
  {
   "cell_type": "code",
   "execution_count": 2,
   "metadata": {},
   "outputs": [],
   "source": [
    "#Create manager that holds the threshold device\n",
    "mng = manager(verbose = True)\n",
    "\n",
    "#Create an input node\n",
    "sns = sens(mng,(1,5))\n",
    "at = act(mng)\n",
    "#Create threshold nodes\n",
    "t1 = thr(mng,1)\n",
    "t2 = thr(mng,1)\n",
    "t3 = thr(mng,1)\n",
    "t4 = thr(mng,1)\n",
    "t5 = thr(mng,2)\n",
    "t6 = thr(mng,2)\n",
    "t7 = thr(mng,2)\n",
    "t8 = thr(mng,2)"
   ]
  },
  {
   "cell_type": "code",
   "execution_count": 3,
   "metadata": {},
   "outputs": [
    {
     "data": {
      "text/plain": [
       "[<signal_input.signal_input at 0x1f2e0fb5f60>,\n",
       " <signal_input.signal_input at 0x1f2e0fb5fd0>,\n",
       " <signal_input.signal_input at 0x1f2e0fc5080>,\n",
       " <signal_input.signal_input at 0x1f2e0fc50b8>,\n",
       " <signal_input.signal_input at 0x1f2e0fc50f0>]"
      ]
     },
     "execution_count": 3,
     "metadata": {},
     "output_type": "execute_result"
    }
   ],
   "source": [
    "sns.inputs"
   ]
  },
  {
   "cell_type": "code",
   "execution_count": 4,
   "metadata": {},
   "outputs": [],
   "source": [
    "#Define connections between nodes 0-activate , 1-inhibit\n",
    "t1.add_consumer(t5,0)\n",
    "t2.add_consumer(t6,0)\n",
    "t3.add_consumer(t7,0)\n",
    "t4.add_consumer(t8,0)\n",
    "t8.add_consumer(at,0)\n",
    "sns.add_consumer(t1,0,(0,4))\n",
    "sns.add_consumer(t2,0,(0,3))\n",
    "sns.add_consumer(t5,0,(0,3))\n",
    "sns.add_consumer(t3,0,(0,2))\n",
    "sns.add_consumer(t6,0,(0,2))\n",
    "sns.add_consumer(t4,0,(0,1))\n",
    "sns.add_consumer(t7,0,(0,1))\n",
    "sns.add_consumer(t8,0,(0,0))"
   ]
  },
  {
   "cell_type": "code",
   "execution_count": 5,
   "metadata": {
    "scrolled": true
   },
   "outputs": [
    {
     "name": "stdout",
     "output_type": "stream",
     "text": [
      "thr_MAA9 --> thr_EO2D with : wire_KLZ5\n",
      "thr_8LVB --> thr_4U13 with : wire_FSSC\n",
      "thr_1CSH --> thr_R6RU with : wire_8Z87\n",
      "thr_SFC9 --> thr_U3Q5 with : wire_T2CZ\n",
      "thr_U3Q5 --> act_CS02 with : wire_7T1W\n"
     ]
    }
   ],
   "source": [
    "#Display connections --> activation, --| inhibition.\n",
    "mng.display()"
   ]
  },
  {
   "cell_type": "code",
   "execution_count": 6,
   "metadata": {},
   "outputs": [
    {
     "name": "stdout",
     "output_type": "stream",
     "text": [
      "digraph \"device\"{ graph [rankdir=LR] node [shape=circle] thr_MAA9 [label =\"1\"] thr_8LVB [label =\"1\"] thr_1CSH [label =\"1\"] thr_SFC9 [label =\"1\"] thr_EO2D [label =\"2\"] thr_4U13 [label =\"2\"] thr_R6RU [label =\"2\"] thr_U3Q5 [label =\"2\"] thr_MAA9 -> thr_EO2D [arrowhead=\"rnormal\"] thr_8LVB -> thr_4U13 [arrowhead=\"rnormal\"] thr_1CSH -> thr_R6RU [arrowhead=\"rnormal\"] thr_SFC9 -> thr_U3Q5 [arrowhead=\"rnormal\"] thr_U3Q5 -> act_CS02 [arrowhead=\"rnormal\"] input_ET6N [color=black style=filled shape=circle label=\"\" width=0.25] input_ET6N -> thr_U3Q5 [arrowhead=\"rnormal\"] input_BTOE [color=black style=filled shape=circle label=\"\" width=0.25] input_BTOE -> thr_SFC9 [arrowhead=\"rnormal\"] input_BTOE -> thr_R6RU [arrowhead=\"rnormal\"] input_WX2B [color=black style=filled shape=circle label=\"\" width=0.25] input_WX2B -> thr_1CSH [arrowhead=\"rnormal\"] input_WX2B -> thr_4U13 [arrowhead=\"rnormal\"] input_W1XY [color=black style=filled shape=circle label=\"\" width=0.25] input_W1XY -> thr_8LVB [arrowhead=\"rnormal\"] input_W1XY -> thr_EO2D [arrowhead=\"rnormal\"] input_XN1S [color=black style=filled shape=circle label=\"\" width=0.25] input_XN1S -> thr_MAA9 [arrowhead=\"rnormal\"]}\n"
     ]
    },
    {
     "data": {
      "text/plain": [
       "'right2left\\\\right2left_movement.png'"
      ]
     },
     "execution_count": 6,
     "metadata": {},
     "output_type": "execute_result"
    }
   ],
   "source": [
    "#Generate the DOT representation of the manager/t. device\n",
    "dot = mng.dot_generator()\n",
    "#Read the DOT file with graphviz\n",
    "src = Source(dot)\n",
    "#Create and save the graph\n",
    "src.render(filename='right2left_movement', directory='right2left', format='png', cleanup=True)"
   ]
  },
  {
   "cell_type": "code",
   "execution_count": 7,
   "metadata": {},
   "outputs": [
    {
     "data": {
      "image/svg+xml": [
       "<?xml version=\"1.0\" encoding=\"UTF-8\" standalone=\"no\"?>\r\n",
       "<!DOCTYPE svg PUBLIC \"-//W3C//DTD SVG 1.1//EN\"\r\n",
       " \"http://www.w3.org/Graphics/SVG/1.1/DTD/svg11.dtd\">\r\n",
       "<!-- Generated by graphviz version 2.38.0 (20140413.2041)\r\n",
       " -->\r\n",
       "<!-- Title: device Pages: 1 -->\r\n",
       "<svg width=\"516pt\" height=\"249pt\"\r\n",
       " viewBox=\"0.00 0.00 515.59 248.80\" xmlns=\"http://www.w3.org/2000/svg\" xmlns:xlink=\"http://www.w3.org/1999/xlink\">\r\n",
       "<g id=\"graph0\" class=\"graph\" transform=\"scale(1 1) rotate(0) translate(4 244.796)\">\r\n",
       "<title>device</title>\r\n",
       "<polygon fill=\"white\" stroke=\"none\" points=\"-4,4 -4,-244.796 511.592,-244.796 511.592,4 -4,4\"/>\r\n",
       "<!-- thr_MAA9 -->\r\n",
       "<g id=\"node1\" class=\"node\"><title>thr_MAA9</title>\r\n",
       "<ellipse fill=\"none\" stroke=\"black\" cx=\"72\" cy=\"-168.796\" rx=\"18\" ry=\"18\"/>\r\n",
       "<text text-anchor=\"middle\" x=\"72\" y=\"-165.096\" font-family=\"Times New Roman,serif\" font-size=\"14.00\">1</text>\r\n",
       "</g>\r\n",
       "<!-- thr_EO2D -->\r\n",
       "<g id=\"node5\" class=\"node\"><title>thr_EO2D</title>\r\n",
       "<ellipse fill=\"none\" stroke=\"black\" cx=\"144\" cy=\"-168.796\" rx=\"18\" ry=\"18\"/>\r\n",
       "<text text-anchor=\"middle\" x=\"144\" y=\"-165.096\" font-family=\"Times New Roman,serif\" font-size=\"14.00\">2</text>\r\n",
       "</g>\r\n",
       "<!-- thr_MAA9&#45;&gt;thr_EO2D -->\r\n",
       "<g id=\"edge1\" class=\"edge\"><title>thr_MAA9&#45;&gt;thr_EO2D</title>\r\n",
       "<path fill=\"none\" stroke=\"black\" d=\"M90.3034,-168.796C98.0173,-168.796 107.288,-168.796 115.888,-168.796\"/>\r\n",
       "<polygon fill=\"black\" stroke=\"black\" points=\"125.896,-168.796 115.896,-165.296 115.896,-168.796 125.896,-168.796\"/>\r\n",
       "</g>\r\n",
       "<!-- thr_8LVB -->\r\n",
       "<g id=\"node2\" class=\"node\"><title>thr_8LVB</title>\r\n",
       "<ellipse fill=\"none\" stroke=\"black\" cx=\"144\" cy=\"-222.796\" rx=\"18\" ry=\"18\"/>\r\n",
       "<text text-anchor=\"middle\" x=\"144\" y=\"-219.096\" font-family=\"Times New Roman,serif\" font-size=\"14.00\">1</text>\r\n",
       "</g>\r\n",
       "<!-- thr_4U13 -->\r\n",
       "<g id=\"node6\" class=\"node\"><title>thr_4U13</title>\r\n",
       "<ellipse fill=\"none\" stroke=\"black\" cx=\"216\" cy=\"-199.796\" rx=\"18\" ry=\"18\"/>\r\n",
       "<text text-anchor=\"middle\" x=\"216\" y=\"-196.096\" font-family=\"Times New Roman,serif\" font-size=\"14.00\">2</text>\r\n",
       "</g>\r\n",
       "<!-- thr_8LVB&#45;&gt;thr_4U13 -->\r\n",
       "<g id=\"edge2\" class=\"edge\"><title>thr_8LVB&#45;&gt;thr_4U13</title>\r\n",
       "<path fill=\"none\" stroke=\"black\" d=\"M161.235,-217.461C169.422,-214.772 179.552,-211.443 188.805,-208.403\"/>\r\n",
       "<polygon fill=\"black\" stroke=\"black\" points=\"198.367,-205.261 187.774,-205.058 188.866,-208.383 198.367,-205.261\"/>\r\n",
       "</g>\r\n",
       "<!-- thr_1CSH -->\r\n",
       "<g id=\"node3\" class=\"node\"><title>thr_1CSH</title>\r\n",
       "<ellipse fill=\"none\" stroke=\"black\" cx=\"216\" cy=\"-123.796\" rx=\"18\" ry=\"18\"/>\r\n",
       "<text text-anchor=\"middle\" x=\"216\" y=\"-120.096\" font-family=\"Times New Roman,serif\" font-size=\"14.00\">1</text>\r\n",
       "</g>\r\n",
       "<!-- thr_R6RU -->\r\n",
       "<g id=\"node7\" class=\"node\"><title>thr_R6RU</title>\r\n",
       "<ellipse fill=\"none\" stroke=\"black\" cx=\"288\" cy=\"-123.796\" rx=\"18\" ry=\"18\"/>\r\n",
       "<text text-anchor=\"middle\" x=\"288\" y=\"-120.096\" font-family=\"Times New Roman,serif\" font-size=\"14.00\">2</text>\r\n",
       "</g>\r\n",
       "<!-- thr_1CSH&#45;&gt;thr_R6RU -->\r\n",
       "<g id=\"edge3\" class=\"edge\"><title>thr_1CSH&#45;&gt;thr_R6RU</title>\r\n",
       "<path fill=\"none\" stroke=\"black\" d=\"M234.303,-123.796C242.017,-123.796 251.288,-123.796 259.888,-123.796\"/>\r\n",
       "<polygon fill=\"black\" stroke=\"black\" points=\"269.896,-123.796 259.896,-120.296 259.896,-123.796 269.896,-123.796\"/>\r\n",
       "</g>\r\n",
       "<!-- thr_SFC9 -->\r\n",
       "<g id=\"node4\" class=\"node\"><title>thr_SFC9</title>\r\n",
       "<ellipse fill=\"none\" stroke=\"black\" cx=\"288\" cy=\"-69.7958\" rx=\"18\" ry=\"18\"/>\r\n",
       "<text text-anchor=\"middle\" x=\"288\" y=\"-66.0958\" font-family=\"Times New Roman,serif\" font-size=\"14.00\">1</text>\r\n",
       "</g>\r\n",
       "<!-- thr_U3Q5 -->\r\n",
       "<g id=\"node8\" class=\"node\"><title>thr_U3Q5</title>\r\n",
       "<ellipse fill=\"none\" stroke=\"black\" cx=\"360\" cy=\"-46.7958\" rx=\"18\" ry=\"18\"/>\r\n",
       "<text text-anchor=\"middle\" x=\"360\" y=\"-43.0958\" font-family=\"Times New Roman,serif\" font-size=\"14.00\">2</text>\r\n",
       "</g>\r\n",
       "<!-- thr_SFC9&#45;&gt;thr_U3Q5 -->\r\n",
       "<g id=\"edge4\" class=\"edge\"><title>thr_SFC9&#45;&gt;thr_U3Q5</title>\r\n",
       "<path fill=\"none\" stroke=\"black\" d=\"M305.235,-64.4614C313.422,-61.7716 323.552,-58.443 332.805,-55.4029\"/>\r\n",
       "<polygon fill=\"black\" stroke=\"black\" points=\"342.367,-52.2611 331.774,-52.0576 332.866,-55.3827 342.367,-52.2611\"/>\r\n",
       "</g>\r\n",
       "<!-- act_CS02 -->\r\n",
       "<g id=\"node9\" class=\"node\"><title>act_CS02</title>\r\n",
       "<ellipse fill=\"none\" stroke=\"black\" cx=\"460.796\" cy=\"-46.7958\" rx=\"46.5926\" ry=\"46.5926\"/>\r\n",
       "<text text-anchor=\"middle\" x=\"460.796\" y=\"-43.0958\" font-family=\"Times New Roman,serif\" font-size=\"14.00\">act_CS02</text>\r\n",
       "</g>\r\n",
       "<!-- thr_U3Q5&#45;&gt;act_CS02 -->\r\n",
       "<g id=\"edge5\" class=\"edge\"><title>thr_U3Q5&#45;&gt;act_CS02</title>\r\n",
       "<path fill=\"none\" stroke=\"black\" d=\"M378.209,-46.7958C385.517,-46.7958 394.49,-46.7958 403.78,-46.7958\"/>\r\n",
       "<polygon fill=\"black\" stroke=\"black\" points=\"413.923,-46.7958 403.923,-43.2959 403.923,-46.7959 413.923,-46.7958\"/>\r\n",
       "</g>\r\n",
       "<!-- input_ET6N -->\r\n",
       "<g id=\"node10\" class=\"node\"><title>input_ET6N</title>\r\n",
       "<ellipse fill=\"black\" stroke=\"black\" cx=\"288\" cy=\"-24.7958\" rx=\"9\" ry=\"9\"/>\r\n",
       "</g>\r\n",
       "<!-- input_ET6N&#45;&gt;thr_U3Q5 -->\r\n",
       "<g id=\"edge6\" class=\"edge\"><title>input_ET6N&#45;&gt;thr_U3Q5</title>\r\n",
       "<path fill=\"none\" stroke=\"black\" d=\"M296.759,-27.2343C305.466,-29.9708 320.06,-34.5575 332.928,-38.6018\"/>\r\n",
       "<polygon fill=\"black\" stroke=\"black\" points=\"342.733,-41.6834 334.242,-35.346 333.193,-38.685 342.733,-41.6834\"/>\r\n",
       "</g>\r\n",
       "<!-- input_BTOE -->\r\n",
       "<g id=\"node11\" class=\"node\"><title>input_BTOE</title>\r\n",
       "<ellipse fill=\"black\" stroke=\"black\" cx=\"216\" cy=\"-73.7958\" rx=\"9\" ry=\"9\"/>\r\n",
       "</g>\r\n",
       "<!-- input_BTOE&#45;&gt;thr_SFC9 -->\r\n",
       "<g id=\"edge7\" class=\"edge\"><title>input_BTOE&#45;&gt;thr_SFC9</title>\r\n",
       "<path fill=\"none\" stroke=\"black\" d=\"M225.03,-73.337C233.418,-72.8577 247.05,-72.0787 259.396,-71.3732\"/>\r\n",
       "<polygon fill=\"black\" stroke=\"black\" points=\"269.75,-70.7816 259.567,-67.8579 259.766,-71.3522 269.75,-70.7816\"/>\r\n",
       "</g>\r\n",
       "<!-- input_BTOE&#45;&gt;thr_R6RU -->\r\n",
       "<g id=\"edge8\" class=\"edge\"><title>input_BTOE&#45;&gt;thr_R6RU</title>\r\n",
       "<path fill=\"none\" stroke=\"black\" d=\"M223.712,-78.5901C233.063,-85.2698 250.462,-97.6976 264.654,-107.834\"/>\r\n",
       "<polygon fill=\"black\" stroke=\"black\" points=\"272.975,-113.778 266.872,-105.118 264.838,-107.966 272.975,-113.778\"/>\r\n",
       "</g>\r\n",
       "<!-- input_WX2B -->\r\n",
       "<g id=\"node12\" class=\"node\"><title>input_WX2B</title>\r\n",
       "<ellipse fill=\"black\" stroke=\"black\" cx=\"144\" cy=\"-123.796\" rx=\"9\" ry=\"9\"/>\r\n",
       "</g>\r\n",
       "<!-- input_WX2B&#45;&gt;thr_1CSH -->\r\n",
       "<g id=\"edge9\" class=\"edge\"><title>input_WX2B&#45;&gt;thr_1CSH</title>\r\n",
       "<path fill=\"none\" stroke=\"black\" d=\"M153.03,-123.796C161.418,-123.796 175.05,-123.796 187.396,-123.796\"/>\r\n",
       "<polygon fill=\"black\" stroke=\"black\" points=\"197.75,-123.796 187.75,-120.296 187.75,-123.796 197.75,-123.796\"/>\r\n",
       "</g>\r\n",
       "<!-- input_WX2B&#45;&gt;thr_4U13 -->\r\n",
       "<g id=\"edge10\" class=\"edge\"><title>input_WX2B&#45;&gt;thr_4U13</title>\r\n",
       "<path fill=\"none\" stroke=\"black\" d=\"M151.005,-130.103C154.27,-133.546 158.372,-137.891 162,-141.796 173.505,-154.18 186.29,-168.165 196.421,-179.3\"/>\r\n",
       "<polygon fill=\"black\" stroke=\"black\" points=\"203.272,-186.84 199.138,-177.085 196.547,-179.439 203.272,-186.84\"/>\r\n",
       "</g>\r\n",
       "<!-- input_W1XY -->\r\n",
       "<g id=\"node13\" class=\"node\"><title>input_W1XY</title>\r\n",
       "<ellipse fill=\"black\" stroke=\"black\" cx=\"72\" cy=\"-217.796\" rx=\"9\" ry=\"9\"/>\r\n",
       "</g>\r\n",
       "<!-- input_W1XY&#45;&gt;thr_8LVB -->\r\n",
       "<g id=\"edge11\" class=\"edge\"><title>input_W1XY&#45;&gt;thr_8LVB</title>\r\n",
       "<path fill=\"none\" stroke=\"black\" d=\"M81.0299,-218.369C89.5589,-218.979 103.51,-219.975 116.017,-220.868\"/>\r\n",
       "<polygon fill=\"black\" stroke=\"black\" points=\"126.033,-221.584 116.307,-217.38 116.058,-220.871 126.033,-221.584\"/>\r\n",
       "</g>\r\n",
       "<!-- input_W1XY&#45;&gt;thr_EO2D -->\r\n",
       "<g id=\"edge12\" class=\"edge\"><title>input_W1XY&#45;&gt;thr_EO2D</title>\r\n",
       "<path fill=\"none\" stroke=\"black\" d=\"M79.7119,-213.098C89.0068,-206.591 106.252,-194.52 120.396,-184.619\"/>\r\n",
       "<polygon fill=\"black\" stroke=\"black\" points=\"128.703,-178.804 118.503,-181.671 120.51,-184.539 128.703,-178.804\"/>\r\n",
       "</g>\r\n",
       "<!-- input_XN1S -->\r\n",
       "<g id=\"node14\" class=\"node\"><title>input_XN1S</title>\r\n",
       "<ellipse fill=\"black\" stroke=\"black\" cx=\"9\" cy=\"-168.796\" rx=\"9\" ry=\"9\"/>\r\n",
       "</g>\r\n",
       "<!-- input_XN1S&#45;&gt;thr_MAA9 -->\r\n",
       "<g id=\"edge13\" class=\"edge\"><title>input_XN1S&#45;&gt;thr_MAA9</title>\r\n",
       "<path fill=\"none\" stroke=\"black\" d=\"M18.2267,-168.796C24.8426,-168.796 34.5327,-168.796 43.8096,-168.796\"/>\r\n",
       "<polygon fill=\"black\" stroke=\"black\" points=\"53.9219,-168.796 43.9219,-165.296 43.9219,-168.796 53.9219,-168.796\"/>\r\n",
       "</g>\r\n",
       "</g>\r\n",
       "</svg>\r\n"
      ],
      "text/plain": [
       "<graphviz.files.Source at 0x1f2e0fb5cc0>"
      ]
     },
     "execution_count": 7,
     "metadata": {},
     "output_type": "execute_result"
    }
   ],
   "source": [
    "src"
   ]
  },
  {
   "cell_type": "code",
   "execution_count": 8,
   "metadata": {},
   "outputs": [],
   "source": [
    "movement = [[0,0,0,0,1],\n",
    "            [0,0,0,1,0],\n",
    "            [0,0,1,0,0],\n",
    "            [0,1,0,0,0],\n",
    "            [1,0,0,0,0]]"
   ]
  },
  {
   "cell_type": "code",
   "execution_count": 9,
   "metadata": {
    "scrolled": false
   },
   "outputs": [
    {
     "name": "stdout",
     "output_type": "stream",
     "text": [
      "[0, 0, 0, 0, 1]\n",
      "I : 0\n",
      "I : 0\n",
      "I : 0\n",
      "I : 0\n",
      "I : 1\n",
      "signaled\n",
      "Thresholds at time 0 after the signal: \n",
      "[1, 0, 0, 0, 0, 0, 0, 0]\n",
      "Threshold outputs at time 0\n",
      "thr_MAA9 --> wire_KLZ5\n",
      "Thresholds at time 0 after threshold update: \n",
      "[0, 0, 0, 0, 0, 0, 0, 0]\n",
      "Wire outputs at time 0\n",
      "thr_MAA9 --> thr_EO2D with : wire_KLZ5\n",
      "thr_8LVB --- thr_4U13 with : wire_FSSC\n",
      "thr_1CSH --- thr_R6RU with : wire_8Z87\n",
      "thr_SFC9 --- thr_U3Q5 with : wire_T2CZ\n",
      "thr_U3Q5 --- act_CS02 with : wire_7T1W\n",
      "Thresholds at time 0 after wire update: \n",
      "[0, 0, 0, 0, 1, 0, 0, 0]\n",
      "[0, 0, 0, 1, 0]\n",
      "I : 0\n",
      "I : 0\n",
      "I : 0\n",
      "I : 1\n",
      "signaled\n",
      "Thresholds at time 1 after the signal: \n",
      "[0, 1, 0, 0, 2, 0, 0, 0]\n",
      "I : 0\n",
      "Threshold outputs at time 1\n",
      "thr_8LVB --> wire_FSSC\n",
      "Thresholds at time 1 after threshold update: \n",
      "[0, 0, 0, 0, 0, 0, 0, 0]\n",
      "Wire outputs at time 1\n",
      "thr_MAA9 --- thr_EO2D with : wire_KLZ5\n",
      "thr_8LVB --> thr_4U13 with : wire_FSSC\n",
      "thr_1CSH --- thr_R6RU with : wire_8Z87\n",
      "thr_SFC9 --- thr_U3Q5 with : wire_T2CZ\n",
      "thr_U3Q5 --- act_CS02 with : wire_7T1W\n",
      "Thresholds at time 1 after wire update: \n",
      "[0, 0, 0, 0, 0, 1, 0, 0]\n",
      "[0, 0, 1, 0, 0]\n",
      "I : 0\n",
      "I : 0\n",
      "I : 1\n",
      "signaled\n",
      "Thresholds at time 2 after the signal: \n",
      "[0, 0, 1, 0, 0, 2, 0, 0]\n",
      "I : 0\n",
      "I : 0\n",
      "Threshold outputs at time 2\n",
      "thr_1CSH --> wire_8Z87\n",
      "Thresholds at time 2 after threshold update: \n",
      "[0, 0, 0, 0, 0, 0, 0, 0]\n",
      "Wire outputs at time 2\n",
      "thr_MAA9 --- thr_EO2D with : wire_KLZ5\n",
      "thr_8LVB --- thr_4U13 with : wire_FSSC\n",
      "thr_1CSH --> thr_R6RU with : wire_8Z87\n",
      "thr_SFC9 --- thr_U3Q5 with : wire_T2CZ\n",
      "thr_U3Q5 --- act_CS02 with : wire_7T1W\n",
      "Thresholds at time 2 after wire update: \n",
      "[0, 0, 0, 0, 0, 0, 1, 0]\n",
      "[0, 1, 0, 0, 0]\n",
      "I : 0\n",
      "I : 1\n",
      "signaled\n",
      "Thresholds at time 3 after the signal: \n",
      "[0, 0, 0, 1, 0, 0, 2, 0]\n",
      "I : 0\n",
      "I : 0\n",
      "I : 0\n",
      "Threshold outputs at time 3\n",
      "thr_SFC9 --> wire_T2CZ\n",
      "Thresholds at time 3 after threshold update: \n",
      "[0, 0, 0, 0, 0, 0, 0, 0]\n",
      "Wire outputs at time 3\n",
      "thr_MAA9 --- thr_EO2D with : wire_KLZ5\n",
      "thr_8LVB --- thr_4U13 with : wire_FSSC\n",
      "thr_1CSH --- thr_R6RU with : wire_8Z87\n",
      "thr_SFC9 --> thr_U3Q5 with : wire_T2CZ\n",
      "thr_U3Q5 --- act_CS02 with : wire_7T1W\n",
      "Thresholds at time 3 after wire update: \n",
      "[0, 0, 0, 0, 0, 0, 0, 1]\n",
      "[1, 0, 0, 0, 0]\n",
      "I : 1\n",
      "signaled\n",
      "Thresholds at time 4 after the signal: \n",
      "[0, 0, 0, 0, 0, 0, 0, 2]\n",
      "I : 0\n",
      "I : 0\n",
      "I : 0\n",
      "I : 0\n",
      "Threshold outputs at time 4\n",
      "thr_U3Q5 --> wire_7T1W\n",
      "Thresholds at time 4 after threshold update: \n",
      "[0, 0, 0, 0, 0, 0, 0, 0]\n",
      "Wire outputs at time 4\n",
      "thr_MAA9 --- thr_EO2D with : wire_KLZ5\n",
      "thr_8LVB --- thr_4U13 with : wire_FSSC\n",
      "thr_1CSH --- thr_R6RU with : wire_8Z87\n",
      "thr_SFC9 --- thr_U3Q5 with : wire_T2CZ\n",
      "thr_U3Q5 --> act_CS02 with : wire_7T1W\n",
      "Thresholds at time 4 after wire update: \n",
      "[0, 0, 0, 0, 0, 0, 0, 0]\n",
      "act_CS02 : ACTIVATED \n"
     ]
    }
   ],
   "source": [
    "for i in range(5):\n",
    "    sns.feed(movement[i])\n",
    "    mng.update()"
   ]
  },
  {
   "cell_type": "code",
   "execution_count": null,
   "metadata": {},
   "outputs": [],
   "source": []
  }
 ],
 "metadata": {
  "kernelspec": {
   "display_name": "Python 3",
   "language": "python",
   "name": "python3"
  },
  "language_info": {
   "codemirror_mode": {
    "name": "ipython",
    "version": 3
   },
   "file_extension": ".py",
   "mimetype": "text/x-python",
   "name": "python",
   "nbconvert_exporter": "python",
   "pygments_lexer": "ipython3",
   "version": "3.6.8"
  }
 },
 "nbformat": 4,
 "nbformat_minor": 2
}
